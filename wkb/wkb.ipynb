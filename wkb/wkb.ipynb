{
 "cells": [
  {
   "cell_type": "markdown",
   "source": [
    "## Introduction\n",
    "\n",
    "The WBK method is an approximation technique for approximating solutions to the time-independent Schrödinger equation\n",
    "with non-constant potential.\n",
    "It is named after Wentzel, Kramers, and Brillouin. In 1923, three years prior to the development of the WKB method, a\n",
    "British mathematician Harold Jeffreys also developed it. But it was not very popular back then. In England, people\n",
    "also call it the JWKB method for the contribution made by Jeffreys.\n"
   ],
   "metadata": {
    "collapsed": false,
    "pycharm": {
     "name": "#%% md\n"
    }
   }
  },
  {
   "cell_type": "markdown",
   "source": [
    "## Derivation of WKB\n",
    "\n",
    "The Schrödinger equation with non-constant potential is,\n",
    "\n",
    "\\begin{equation}\n",
    "    -\\frac{\\hbar^2}{2m} \\frac{d^2 \\psi}{dx^2} + V(x)\\psi = E\\psi.\n",
    "\\end{equation}\n",
    "\n",
    "We assume $E>V(x)$ and rewrite it as\n",
    "\n",
    "\\begin{equation}\n",
    "    \\frac{d^2 \\psi}{dx^2}= -\\frac{p^2}{\\hbar^2} \\psi,\n",
    "\\end{equation}\n",
    "\n",
    "where $p(x)=\\sqrt{2m[E-V(x)]}$ is the classical momentum of a particle with total energy E and potential $V(x)$.\n",
    "\n",
    "The general solution of this equation has the form\n",
    "\n",
    "\\begin{equation}\n",
    "    \\psi(x) = A(x)e^{i\\phi(x)},\n",
    "\\end{equation}\n",
    "\n",
    "where $A(x)$ is the amplitude and $\\phi(x)$ is the phase, both as a function of x. Then we can calculate the first and\n",
    "the second derivative of $\\psi$ and plug them back to the Schrödinger equation to get\n",
    "\n",
    "\\begin{equation}\n",
    "    A'' + 2i A' \\phi' + iA\\phi'' - A(\\phi')^2 = - \\frac{p^2}{\\hbar^2}A.\n",
    "\\end{equation}\n",
    "\n",
    "The real and imaginary part each gives us an equation.\n",
    "\n",
    "The imaginary part is\n",
    "\n",
    "\\begin{equation}\n",
    "    2A'\\phi' + A\\phi'' = 0.\n",
    "\\end{equation}\n",
    "\n",
    "Its solution is\n",
    "\n",
    "\\begin{equation}\n",
    "    A = \\frac{C}{\\sqrt{\\phi'}},\n",
    "\\end{equation}\n",
    "\n",
    "where $C$ is a real number.\n",
    "\n",
    "The real part is\n",
    "\n",
    "\\begin{equation}\n",
    "    A'' - A (\\phi')^2 = -\\frac{p^2}{\\hbar^2}A.\n",
    "\\end{equation}\n",
    "\n",
    "Unfortunately this equation cannot be solved in most cases. Here, the approximation comes in. By assuming $A(x)$ varies\n",
    "slowly as a function of $x$, we can make $A''=0$. Then we can solve it to get\n",
    "\n",
    "\\begin{equation}\n",
    "    \\phi(x) = \\pm \\frac{1}{\\hbar} \\int p(x)dx.\n",
    "\\end{equation}\n",
    "\n",
    "Therefore, the general solution is given by\n",
    "\n",
    "\\begin{equation}\n",
    "    \\psi(x) = \\frac{C}{\\sqrt{p(x)}} e^{\\pm \\frac{i}{\\hbar} \\int p(x)dx}.\n",
    "\\end{equation}\n",
    "\n",
    "For $E<V$, we need to take $p(x)$ to absolute value to keep it a real function.\n",
    "\n",
    "Please see Chapter 8 of Griffiths' Introduction to Quantum Mechanics for a more detailed discussion. Professor\n",
    "Barton Zwiebach's lecture presented another derivation. It's very interesting as well.\n"
   ],
   "metadata": {
    "collapsed": false
   }
  },
  {
   "cell_type": "markdown",
   "source": [
    "## Validity of WKB\n",
    "\n",
    "The argument we used in the derivation for the approximation is rather mathematical. A more physical way to look it is\n",
    "that the probability of finding a particle at location $x$ is inversely proportional to its momentum. It agrees with our\n",
    "intuition. If a particle moves fast at one location, it's less likely to be found by us. Professor Zwiebach derived some\n",
    "more formal inequalities to justify the validity of the WKB approximation. Dropping the second derivative term leads\n",
    "to the inequality.\n",
    "\n",
    "\\begin{equation}\n",
    "    \\lambda \\frac{d \\lambda(x)}{dx} << \\lambda.\n",
    "\\end{equation}\n",
    "\n",
    "There are several others, but this one makes the most sense physically. It says that the wavelength change over one\n",
    "de Broglie wavelength is much smaller than the de Broglie wavelength itself. This is the physical assumption of this\n",
    "approximation.\n",
    "\n",
    "For a potential barrier with sloping walls, if the energy of the incoming particle is less than the potential of the\n",
    "barrier in one portion of it. The points where $E=V$ is called the turning points. The WKB method is only valid away from\n",
    "those turning points. As we move close to the turning points, the derivative of the local de Broglie wavelength blows up."
   ],
   "metadata": {
    "collapsed": false
   }
  },
  {
   "cell_type": "markdown",
   "source": [
    "## The Connection Formulas\n",
    "\n",
    "To approximate the solution near the turning points, people developed the connection formulas. Its derivation is rather\n",
    "involved. So I decide to not talk about it here.\n",
    "\n",
    "The idea is that we use a straight line to approximate the potential near the turning points. Then find a \"patching\"\n",
    "wave function to connect both sides. The connection formulas that joining the WKB solutions at a turning point $x_1$ is\n",
    "\n",
    "\\begin{equation}\n",
    "    \\psi(x) =\n",
    "    \\begin{cases}\n",
    "    & \\frac{2D}{\\sqrt{p(x)}} sin[ \\frac{1}{\\hbar} \\int_{x}^{x_1}p(x')dx' + \\frac{\\pi}{4} ], \\quad \\text{if } x<x_1; \\\\\n",
    "    & \\frac{D}{\\sqrt{|p(x)|}} exp[ -\\frac{1}{\\hbar} \\int_{x}^{x_1}p(x')dx' + \\frac{\\pi}{4} ], \\quad \\text{if } x>x_1. \\\\\n",
    "    \\end{cases}\n",
    "\\end{equation}\n",
    "\n",
    "Using WKB with connection formulas, we can calculate the bound state energies and transmission coefficient without actually\n",
    "solving the Schrödinger equation.\n"
   ],
   "metadata": {
    "collapsed": false
   }
  },
  {
   "cell_type": "markdown",
   "source": [
    "## Analytical Solution of a Finite Rectangular Potential Barrier\n",
    "\n",
    "We derived the expressions for the transmission coefficient the conditions that the wave function and its first\n",
    "derivative must be continues everywhere. We wrote down the boundary conditions\n",
    "\n",
    "\\begin{aligned}\n",
    "\\psi_1 (0) &= \\psi_2 (0) \\\\\n",
    "\\psi_1' (0) &= \\psi_2' (0) \\\\\n",
    "\\psi_2 (L) &= \\psi_3 (L) \\\\\n",
    "\\psi_2' (L) &= \\psi_3' (L).\n",
    "\\end{aligned}\n",
    "\n",
    "Then we solved for the transmission coefficient $T$ for three cases: $E<V_0$, $E>V_0$, and $E=V_0$. We have done one\n",
    "of those three cases in homework 4. The other two are similar.\n",
    "\n",
    "### Case 1: $E<V_0$\n",
    "We have\n",
    "\\begin{equation}\n",
    "T = \\bigg[ 1 + \\frac{V_0^2 sinh^2(k L)}{4E(V_0-E)} \\bigg]^{-1},\n",
    "\\end{equation}\n",
    "\n",
    "where $k=\\sqrt{2m(V_0 - E)} / \\hbar$. This is the quantum tunneling case. Classically, particles with energy less than\n",
    "the potential barrier have zero chance going through. But in a quantum system, the particle has some probability\n",
    "tunneling through. This probability is exponentially decayed as the width of of the barrier increases.\n",
    "\n",
    "### Case 2: $E>V_0$\n",
    "\\begin{equation}\n",
    "T = \\bigg[ 1 + \\frac{V_0^2 sin^2(k L)}{4E(E-V_0)} \\bigg]^{-1},\n",
    "\\end{equation}\n",
    "\n",
    "where $k=\\sqrt{2m(E - V_0)} / \\hbar$. Classically, particles with energy greater than\n",
    "the potential barrier would go through certainly. But the quantum scenario, the transmission coefficient actually\n",
    "oscillates as a function of the width and potential of the barrier and the energy of the particle.\n",
    "\n",
    "### Case 3: $E=V_0$\n",
    "\\begin{equation}\n",
    "T = \\bigg[ 1 + mL^2 V_0 / 2\\hbar^2 \\bigg]^{-1}.\n",
    "\\end{equation}\n",
    "\n",
    "In the case $E=V_0$ the transmission coefficient depends on the width and potential of the barrier.\n",
    "\n",
    "### Plot of the Transmission Coefficient T\n",
    "\n",
    "In the following graph, I plotted the three cases separately and combined them to form a single graph. We can see the\n",
    "exponential decay of the transmission coefficient as the width of the barrier increases. And in the region that $E>V_0$,\n",
    "$T$ oscillates and trends to 1."
   ],
   "metadata": {
    "collapsed": false,
    "pycharm": {
     "name": "#%% md\n"
    }
   }
  },
  {
   "cell_type": "code",
   "execution_count": 1,
   "outputs": [],
   "source": [
    "import numpy as np\n",
    "import scipy.constants as sc\n",
    "import matplotlib.pyplot as plt\n",
    "\n",
    "# suppress divide by zero warnings\n",
    "import warnings; warnings.simplefilter('ignore')"
   ],
   "metadata": {
    "collapsed": false,
    "pycharm": {
     "name": "#%%\n"
    }
   }
  },
  {
   "cell_type": "code",
   "execution_count": 2,
   "outputs": [],
   "source": [
    "# constants are imported from the scipy physical constants library\n",
    "hbar = sc.physical_constants['reduced Planck constant in eV s'][0]\n",
    "m_e = sc.physical_constants['electron mass energy equivalent'][0]"
   ],
   "metadata": {
    "collapsed": false,
    "pycharm": {
     "name": "#%%\n"
    }
   }
  },
  {
   "cell_type": "code",
   "execution_count": 3,
   "outputs": [],
   "source": [
    "T_l = lambda e_, l_, v_: (1 + (v_**2 * np.sinh(l_*np.sqrt(2*m_e*(v_-e_))/hbar)**2)/(4*e_*(v_-e_)))**-1\n",
    "T_eq = lambda e_, l_, v_: (1 + m_e*l_**2 * v_ / (2*hbar**2))**-1\n",
    "T_g = lambda e_, l_, v_: (1 + (v_**2 * np.sin(l_*np.sqrt(2*m_e*(e_-v_))/hbar)**2)/(4*e_*(e_-v_)))**-1"
   ],
   "metadata": {
    "collapsed": false,
    "pycharm": {
     "name": "#%%\n"
    }
   }
  },
  {
   "cell_type": "code",
   "execution_count": 4,
   "outputs": [
    {
     "data": {
      "text/plain": "<Figure size 432x288 with 1 Axes>",
      "image/png": "[encoded data removed]"
     },
     "metadata": {
      "needs_background": "light"
     },
     "output_type": "display_data"
    }
   ],
   "source": [
    "n = 100\n",
    "l = 10E-9 # m\n",
    "vs = [0.05, 0.1, 0.5, 1] # eV\n",
    "\n",
    "plt.figure()\n",
    "for v in vs:\n",
    "    es_lv = np.linspace(0, v*((n-1)/n), n-1)\n",
    "    es_gv = np.linspace(v*((n+1)/n), v*3, n*2)\n",
    "    es = np.append(es_lv, v)\n",
    "    es = np.concatenate((es, es_gv))\n",
    "    leq = np.append(T_l(es_lv, l, v), T_eq(v, l, v))\n",
    "    Ts = np.concatenate((leq, T_g(es_gv, l, v)))\n",
    "    es_v = es / v\n",
    "    plt.plot(es_v, Ts, label=f'v={v} eV')\n",
    "\n",
    "plt.vlines(1, 0, 1, linestyles='dashed')\n",
    "plt.xlabel('E / V_0')\n",
    "plt.ylabel('T')\n",
    "plt.legend()\n",
    "plt.show()\n"
   ],
   "metadata": {
    "collapsed": false,
    "pycharm": {
     "name": "#%%\n"
    }
   }
  },
  {
   "cell_type": "markdown",
   "source": [
    "## The WKB approximation of a Finite Rectangular Potential Barrier\n",
    "\n",
    "### WKB inside of the Barrier\n",
    "Since the wave function of an electron passing through a finite rectangular potential barrier is known. We can compare\n",
    "the exact analytical solution with the one getting from the WKB approximation. The first thing I tried is to solve for the\n",
    "transmission coefficient using the WKB wave function inside the barrier.\n",
    "\n",
    "\\begin{equation}\n",
    "    \\psi_2(x) = \\frac{C}{\\sqrt{p}} e^{\\frac{p}{\\hbar}x} + \\frac{D}{\\sqrt{p}} e^{-\\frac{p}{\\hbar}x}, \\\\\n",
    "\\end{equation}\n",
    "\n",
    "where $p=\\sqrt{2m(V_0 - E)}$. The phase part is the result of the integral $\\int_{0}^{L}|p(x')|dx'$. Then we use the\n",
    "boundary conditions to solve for the transmission coefficient T.\n",
    "\n",
    "\\begin{align}\n",
    "    T &= \\bigg\\vert \\frac{F}{A} \\bigg\\vert^2 \\\\\n",
    "      &= \\bigg\\vert \\bigg[\n",
    "      \\frac{1}{2} e^{ikL-\\frac{pL}{\\hbar}} \\big(1+\\frac{p}{ik\\hbar} \\big) \\big(1+\\frac{ik\\hbar}{p} \\big)\n",
    "         + \\frac{1}{2} e^{ikL+\\frac{pL}{\\hbar}} \\big(1-\\frac{p}{ik\\hbar} \\big) \\big(1-\\frac{ik\\hbar}{p} \\big)\n",
    "         \\bigg]^{-1} \\bigg\\vert^2.\n",
    "\\end{align}\n",
    "\n",
    "This equation could be farther simplified. But since we are plotting it with a program. This form works perfectly fine.\n",
    "\n",
    "For a rectangular potential barrier with a flat top. The second derivative term of the amplitude of the wave equation is\n",
    "zero. So dropping it in the approximation would not affect the result. Any of its deviation from the exact analytical\n",
    "solution should be because WKB doesn't work very well near the boundaries.\n",
    "\n",
    "### WKB for Potential with Sloping Walls\n",
    "\n",
    "The way of getting the exponential decay part of the transmission coefficient was presented in both homework 4 and\n",
    "the Griffiths book. It's give by\n",
    "\n",
    "\\begin{equation}\n",
    "    T \\approx e^{-2\\gamma}, \\\\\n",
    "\\end{equation}\n",
    "where $\\gamma = \\frac{1}{\\hbar}\\int_0^L |p(x)|dx$. The problem 8.10 of the Griffiths book also talks about the WKB solution of a scattering from\n",
    "barrier with sloping walls. It uses the connection formula. The expression is\n",
    "\n",
    "\\begin{equation}\n",
    "    T = \\frac{e^{-2\\gamma}}{ [1-(e^{-\\gamma /2})^2]^2 }, \\\\\n",
    "\\end{equation}\n",
    "where $\\gamma = \\frac{1}{\\hbar}\\int_0^L |p(x)|dx$.\n",
    "I'm not sure if it applies to a finite rectangular potential barrier with vertical walls. But it would be interesting to\n",
    "see how it looks.\n"
   ],
   "metadata": {
    "collapsed": false
   }
  },
  {
   "cell_type": "code",
   "execution_count": 5,
   "outputs": [],
   "source": [
    "gamma = lambda e_, l_, v_: np.exp(l_/hbar*np.sqrt(2*m_e*(v_-e_)))\n",
    "T_wkb = lambda e_, l_, v_: np.exp(-2*gamma(e_, l_, v_)) / np.power(1 - np.power(np.exp(-gamma(e_, l_, v_)/2), 2), 2)\n",
    "\n",
    "p = lambda e_, v_: np.sqrt(2*m_e*(v_ - e_))\n",
    "k = lambda e_: np.sqrt(2*m_e*e_)/hbar\n",
    "T_test = lambda e_, v_, l_: np.power(np.absolute( ((1+p(e_, v_)/(k(e_)*hbar*1j))*(0.5*np.exp(k(e_)*l_*1j - p(e_, v_)*l_/hbar)*(1+(k(e_)*hbar*1j)/p(e_, v_))) + (1-p(e_, v_)/(k(e_)*hbar*1j))*(0.5*np.exp(k(e_)*l_*1j + p(e_, v_)*l_/hbar)*(1-(k(e_)*hbar*1j)/p(e_, v_))))**-1 ) , 2)"
   ],
   "metadata": {
    "collapsed": false,
    "pycharm": {
     "name": "#%%\n"
    }
   }
  },
  {
   "cell_type": "code",
   "execution_count": 6,
   "outputs": [
    {
     "data": {
      "text/plain": "<Figure size 432x288 with 1 Axes>",
      "image/png": "[encoded data removed]"
     },
     "metadata": {
      "needs_background": "light"
     },
     "output_type": "display_data"
    }
   ],
   "source": [
    "l = 10E-9\n",
    "v = 1\n",
    "es_lv = np.linspace(0, v*((n-1)/n), n-1)\n",
    "es_vv = es_lv / v\n",
    "plt.plot(es_vv, T_test(es_lv, v, l), label='WKB')\n",
    "plt.plot(es_vv, T_wkb(es_lv, l, v), label='WKB-connection')\n",
    "plt.plot(es_vv, T_l(es_lv, l, v), label='Analytical')\n",
    "plt.xlabel('E / V_0')\n",
    "plt.ylabel('T')\n",
    "plt.legend()\n",
    "plt.show()"
   ],
   "metadata": {
    "collapsed": false,
    "pycharm": {
     "name": "#%%\n"
    }
   }
  },
  {
   "cell_type": "markdown",
   "source": [
    "The results agree with the approximation. As the energy of the particle approaches the potential of the barrier, the\n",
    "transmission coefficient starts to deviate from the exact solution."
   ],
   "metadata": {
    "collapsed": false
   }
  },
  {
   "cell_type": "code",
   "execution_count": 7,
   "outputs": [
    {
     "data": {
      "text/plain": "<Figure size 432x288 with 1 Axes>",
      "image/png": "[encoded data removed]"
     },
     "metadata": {
      "needs_background": "light"
     },
     "output_type": "display_data"
    }
   ],
   "source": [
    "l = 5E-9\n",
    "v = 1\n",
    "es_lv = np.linspace(0, v*((n-1)/n), n-1)\n",
    "es_vv = es_lv / v\n",
    "plt.plot(es_vv, T_test(es_lv, v, l), label='WKB')\n",
    "plt.plot(es_vv, T_wkb(es_lv, l, v), label='WKB-connection')\n",
    "plt.plot(es_vv, T_l(es_lv, l, v), label='Analytical')\n",
    "plt.xlabel('E / V_0')\n",
    "plt.ylabel('T')\n",
    "plt.legend()\n",
    "plt.show()"
   ],
   "metadata": {
    "collapsed": false,
    "pycharm": {
     "name": "#%%\n"
    }
   }
  },
  {
   "cell_type": "markdown",
   "source": [
    "Another assumption of the WKB approximation is that the size of the aperture is much larger than the de Broglie wavelength of the incoming particle. So I reduced the width of the potential barrier by half and tested how it affects the\n",
    "transmission coefficient T. For the exact solution, T increases overall. It agrees with our intuition since a particle\n",
    "is more likely to tunnel through a narrower potential barrier. But in this case, the WKB solution deviates even more\n",
    "from the exact solution."
   ],
   "metadata": {
    "collapsed": false,
    "pycharm": {
     "name": "#%% md\n"
    }
   }
  },
  {
   "cell_type": "markdown",
   "source": [
    "## References\n",
    "\n",
    "- Griffiths, D. J. (2004). Introduction to Quantum Mechanics (2nd Edition). Pearson Prentice Hall. ISBN: 0131118927\n",
    "- Barton Zwiebach. 8.06 Quantum Physics III. Spring 2018. Massachusetts Institute of Technology: MIT OpenCourseWare,\n",
    "https://ocw.mit.edu. License: Creative Commons BY-NC-SA.\n"
   ],
   "metadata": {
    "collapsed": false
   }
  }
 ],
 "metadata": {
  "kernelspec": {
   "display_name": "Python 3",
   "language": "python",
   "name": "python3"
  },
  "language_info": {
   "codemirror_mode": {
    "name": "ipython",
    "version": 2
   },
   "file_extension": ".py",
   "mimetype": "text/x-python",
   "name": "python",
   "nbconvert_exporter": "python",
   "pygments_lexer": "ipython2",
   "version": "2.7.6"
  }
 },
 "nbformat": 4,
 "nbformat_minor": 0
}