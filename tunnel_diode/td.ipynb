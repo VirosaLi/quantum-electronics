{
 "cells": [
  {
   "cell_type": "code",
   "execution_count": 161,
   "metadata": {
    "collapsed": true
   },
   "outputs": [],
   "source": [
    "import numpy as np\n",
    "import scipy.constants as sc\n",
    "import matplotlib.pyplot as plt"
   ]
  },
  {
   "cell_type": "code",
   "execution_count": 162,
   "outputs": [],
   "source": [
    "hbar = sc.physical_constants['reduced Planck constant in eV s'][0]\n",
    "m_e = sc.physical_constants['electron mass energy equivalent'][0]\n",
    "l = 10E-9 # m\n",
    "v = 1"
   ],
   "metadata": {
    "collapsed": false,
    "pycharm": {
     "name": "#%%\n"
    }
   }
  },
  {
   "cell_type": "code",
   "execution_count": 163,
   "outputs": [],
   "source": [
    "# T = lambda e: 16*e*(v-e)/v**2 * np.exp(-2*l/hbar*np.sqrt(2*m_e*(v-e)))\n",
    "T_l = lambda e_: (1 + (v**2 * np.sinh(l*np.sqrt(2*m_e*(v-e_))/hbar)**2)/(4*e_*(v-e_)))**-1\n",
    "T_eq = lambda e_: (1 + m_e*l**2 * v / (2*hbar**2))**-1\n",
    "T_g = lambda e_: (1 + (v**2 * np.sin(l*np.sqrt(2*m_e*(e_-v))/hbar)**2)/(4*e_*(e_-v)))**-1"
   ],
   "metadata": {
    "collapsed": false,
    "pycharm": {
     "name": "#%%\n"
    }
   }
  },
  {
   "cell_type": "code",
   "execution_count": 164,
   "outputs": [],
   "source": [
    "n = 100\n",
    "es_lv = np.linspace(0, v*((n-1)/n), n-1)\n",
    "es_gv = np.linspace(v*((n+1)/n), v*3, n*2)\n",
    "es = np.append(es_lv, v)\n",
    "es = np.concatenate((es, es_gv))"
   ],
   "metadata": {
    "collapsed": false,
    "pycharm": {
     "name": "#%%\n"
    }
   }
  },
  {
   "cell_type": "code",
   "execution_count": 165,
   "outputs": [
    {
     "name": "stderr",
     "output_type": "stream",
     "text": [
      "/home/fangchenli/miniconda3/envs/data/lib/python3.7/site-packages/ipykernel_launcher.py:2: RuntimeWarning: divide by zero encountered in true_divide\n",
      "  \n"
     ]
    }
   ],
   "source": [
    "\n",
    "leq = np.append(T_l(es_lv), T_eq(v))\n",
    "Ts = np.concatenate((leq, T_g(es_gv)))"
   ],
   "metadata": {
    "collapsed": false,
    "pycharm": {
     "name": "#%%\n"
    }
   }
  },
  {
   "cell_type": "code",
   "execution_count": 166,
   "outputs": [
    {
     "data": {
      "text/plain": "<Figure size 432x288 with 1 Axes>",
      "image/png": "[encoded data removed]"
     },
     "metadata": {
      "needs_background": "light"
     },
     "output_type": "display_data"
    }
   ],
   "source": [
    "es_v = es / v\n",
    "plt.plot(es_v, Ts)\n",
    "plt.xlabel('E / V_0')\n",
    "plt.ylabel('T')\n",
    "plt.show()"
   ],
   "metadata": {
    "collapsed": false,
    "pycharm": {
     "name": "#%%\n"
    }
   }
  },
  {
   "cell_type": "code",
   "execution_count": null,
   "outputs": [],
   "source": [
    "vs = np.linspace(0, 20, 100)\n",
    "I = lambda v_: 2*sc.e**2/hbar * v_ * T_g()\n"
   ],
   "metadata": {
    "collapsed": false,
    "pycharm": {
     "name": "#%%\n"
    }
   }
  }
 ],
 "metadata": {
  "kernelspec": {
   "display_name": "Python 3",
   "language": "python",
   "name": "python3"
  },
  "language_info": {
   "codemirror_mode": {
    "name": "ipython",
    "version": 2
   },
   "file_extension": ".py",
   "mimetype": "text/x-python",
   "name": "python",
   "nbconvert_exporter": "python",
   "pygments_lexer": "ipython2",
   "version": "2.7.6"
  }
 },
 "nbformat": 4,
 "nbformat_minor": 0
}